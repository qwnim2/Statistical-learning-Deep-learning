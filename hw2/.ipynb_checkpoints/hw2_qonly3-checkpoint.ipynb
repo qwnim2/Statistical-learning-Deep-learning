{
 "cells": [
  {
   "cell_type": "markdown",
   "metadata": {},
   "source": [
    "### 統計學習與深度學習\n",
    "### Homework 2\n",
    "\n",
    "\n",
    "請將IPYNB檔上傳至COOL作業區。回答作業時建議使用 \"三明治\" 答題法。也就是說，先說明要做什麼，然後列出程式碼與結果，最後說明這些結果的意義。作業自己做。嚴禁抄襲。不接受紙本繳交，不接受遲交。請以英文或中文作答。\n"
   ]
  },
  {
   "cell_type": "markdown",
   "metadata": {},
   "source": [
    "### 第一題 [Data Preprocessing]\n",
    "\n",
    "(10%) 資料前處理是一個重要的工作，本題將利用UCI的\"Adult\" dataset <https://archive.ics.uci.edu/ml/datasets/Adult>來練習資料前處理。我們使用這個資料集的方式是用來建構預測最後一個收入欄位是'>50K'或'<=50K'。這個資料集已經先切好了Training跟Test。我們將會沿用這個切割。\n",
    "\n",
    "資料前處理包含以下工作:\n",
    "* 生成以下numpy變數: x_train(訓練特徵)、y_train(訓練標籤)、x_test(測試特徵)、y_test(測試標籤)。用一個Dictionary組織將這些變數，其中Key為變數名稱，Value為之前生成的變數內容。\n",
    "* 最後一欄為標籤，將'>50K'與'<=50K'轉成1跟0。其他欄位為特徵。\n",
    "* 把所有含有缺值的Rows刪除。\n",
    "* 所有數值欄位標準化(均數為0，變異數為1)。測試資料特徵需用訓練資料的均數與變異數標準化。\n",
    "* 所有類別欄位(如native-country與workclass)都應使用\"1-of-K\"轉換成0與1的欄位。\n",
    "* 我們只考慮在訓練資料中出現超過(含)10次的特徵值。如果一個特徵值出現不到10次，則刪除這個特徵值所對應的1-of-K欄位。\n",
    "* 你可以使用sklearn中的工具函數進行1-of-K encoding與變數標準化。\n"
   ]
  },
  {
   "cell_type": "markdown",
   "metadata": {},
   "source": [
    "前處理完成後，比較你生成的Dictionary與由**adult_m50k.pickle**讀入的資料比較，確定內容相同。\n",
    "\n",
    "讀取**adult_m50k.pickle**的方式如下:"
   ]
  },
  {
   "cell_type": "code",
   "execution_count": 88,
   "metadata": {},
   "outputs": [],
   "source": [
    "import pickle\n",
    "dsfile = 'adult_m50k.pickle'\n",
    "with open(dsfile, 'rb') as fh1:\n",
    "    adult50kp = pickle.load(fh1)"
   ]
  },
  {
   "cell_type": "code",
   "execution_count": 102,
   "metadata": {
    "scrolled": true
   },
   "outputs": [],
   "source": [
    "import numpy as np\n",
    "import pandas as pd\n",
    "from sklearn import preprocessing\n",
    "\n",
    "my_dict = {}\n",
    "headers = ['age', 'workclass', 'fnlwgt', 'education',\n",
    "           'education-num', 'marital-status', 'occupation', \n",
    "           'relationship', 'race', 'sex', 'capital-gain', \n",
    "           'capital-loss', 'hours-per-week', 'native-country', '>50K']\n",
    "\n",
    "right_headers = ['capital-loss', 'hours-per-week', \n",
    "                 'capital-gain', 'education-num', \n",
    "                 'age', 'fnlwgt', 'relationship', \n",
    "                 'race', 'sex', 'occupation', \n",
    "                 'education', 'native-country', \n",
    "                 'workclass', 'marital-status']\n",
    "\n",
    "with open('adult.data', 'r') as f:\n",
    "    df = pd.read_csv(f, header=None)\n",
    "    f.close()\n",
    "\n",
    "df.columns = headers\n",
    "\n",
    "df = df.reindex(columns=headers)\n",
    "for header in headers:\n",
    "    df = df[~df[header].isin([' ?'])]\n",
    "\n",
    "Y_train = df['>50K'].map({' >50K':1, ' <=50K':0, ' >50K':1, ' <=50K':0}).to_numpy()\n",
    "\n",
    "df = df.reindex(columns=right_headers)\n",
    "\n",
    "num_col = ['capital-loss', 'hours-per-week', 'capital-gain', 'education-num', 'age', 'fnlwgt']\n",
    "df_num_col = df[num_col]\n",
    "scaler = preprocessing.StandardScaler().fit(df_num_col)\n",
    "df[num_col] = scaler.transform(df_num_col)\n",
    "df1 = df[num_col]\n",
    "\n",
    "df = pd.get_dummies(df)\n",
    "df2 = df.drop(num_col, axis=1)\n",
    "df2 = df2[df2.columns[df2.sum()>=10]]\n",
    "\n",
    "df = df1.join(df2)\n",
    "useful_index = df.columns\n",
    "X_train = df.to_numpy()\n",
    "\n",
    "my_dict['x_train'] = X_train\n",
    "my_dict['y_train'] = Y_train"
   ]
  },
  {
   "cell_type": "code",
   "execution_count": 105,
   "metadata": {},
   "outputs": [],
   "source": [
    "headers = ['age', 'workclass', 'fnlwgt', 'education',\n",
    "           'education-num', 'marital-status', 'occupation', \n",
    "           'relationship', 'race', 'sex', 'capital-gain', \n",
    "           'capital-loss', 'hours-per-week', 'native-country', '>50K']\n",
    "\n",
    "right_headers = ['capital-loss', 'hours-per-week', \n",
    "                 'capital-gain', 'education-num', \n",
    "                 'age', 'fnlwgt', 'relationship', \n",
    "                 'race', 'sex', 'occupation', \n",
    "                 'education', 'native-country', \n",
    "                 'workclass', 'marital-status']\n",
    "\n",
    "with open('adult.test', 'r') as f:\n",
    "    df = pd.read_csv(f, header=None)\n",
    "    f.close()\n",
    "\n",
    "df.columns = headers\n",
    "\n",
    "df = df.reindex(columns=headers)\n",
    "for header in headers:\n",
    "    df = df[~df[header].isin([' ?', '?'])]\n",
    "\n",
    "Y_test = df['>50K'].map({' >50K.':1., ' <=50K.':0.}).to_numpy()\n",
    "df = df.reindex(columns=right_headers)\n",
    "\n",
    "num_col = ['capital-loss', 'hours-per-week', 'capital-gain', 'education-num', 'age', 'fnlwgt']\n",
    "df_num_col = df[num_col]\n",
    "df[num_col] = scaler.transform(df_num_col)\n",
    "df1 = df[num_col]\n",
    "\n",
    "df = pd.get_dummies(df)\n",
    "df2 = df.drop(num_col, axis=1)\n",
    "\n",
    "df = df1.join(df2)\n",
    "df = df.reindex(columns = useful_index)\n",
    "\n",
    "X_test = df.to_numpy()\n",
    "my_dict['x_test'] = X_test\n",
    "my_dict['y_test'] = Y_test"
   ]
  },
  {
   "cell_type": "markdown",
   "metadata": {},
   "source": [
    "這個adult50kp是個Dictionary，裡面有:"
   ]
  },
  {
   "cell_type": "code",
   "execution_count": 106,
   "metadata": {},
   "outputs": [
    {
     "name": "stdout",
     "output_type": "stream",
     "text": [
      "dict_keys(['x_train', 'y_train', 'x_test', 'y_test', 'columnname', 'num_col'])\n"
     ]
    }
   ],
   "source": [
    "print(adult50kp.keys())"
   ]
  },
  {
   "cell_type": "markdown",
   "metadata": {},
   "source": [
    "其中'x_train', 'y_train', 'x_test', 'y_test'分別是訓練資料特徵、訓練資料標記、測試資料特徵、測試資料標記。'num_col'是連續變數特徵的欄位名稱。"
   ]
  },
  {
   "cell_type": "code",
   "execution_count": 107,
   "metadata": {},
   "outputs": [
    {
     "data": {
      "text/plain": [
       "['capital-loss',\n",
       " 'hours-per-week',\n",
       " 'capital-gain',\n",
       " 'educational-num',\n",
       " 'age',\n",
       " 'fnlwgt']"
      ]
     },
     "execution_count": 107,
     "metadata": {},
     "output_type": "execute_result"
    }
   ],
   "source": [
    "adult50kp['num_col']"
   ]
  },
  {
   "cell_type": "markdown",
   "metadata": {},
   "source": [
    "'columnname'是所有特徵資料的欄位名稱。"
   ]
  },
  {
   "cell_type": "code",
   "execution_count": 108,
   "metadata": {},
   "outputs": [
    {
     "data": {
      "text/plain": [
       "array(['capital-loss', 'hours-per-week', 'capital-gain',\n",
       "       'educational-num', 'age', 'fnlwgt', 'relationship_Husband',\n",
       "       'relationship_Not-in-family', 'relationship_Other-relative',\n",
       "       'relationship_Own-child', 'relationship_Unmarried',\n",
       "       'relationship_Wife', 'race_Amer-Indian-Eskimo',\n",
       "       'race_Asian-Pac-Islander', 'race_Black', 'race_Other',\n",
       "       'race_White', 'gender_Female', 'gender_Male',\n",
       "       'occupation_Adm-clerical', 'occupation_Craft-repair',\n",
       "       'occupation_Exec-managerial', 'occupation_Farming-fishing',\n",
       "       'occupation_Handlers-cleaners', 'occupation_Machine-op-inspct',\n",
       "       'occupation_Other-service', 'occupation_Priv-house-serv',\n",
       "       'occupation_Prof-specialty', 'occupation_Protective-serv',\n",
       "       'occupation_Sales', 'occupation_Tech-support',\n",
       "       'occupation_Transport-moving', 'education_10th', 'education_11th',\n",
       "       'education_12th', 'education_1st-4th', 'education_5th-6th',\n",
       "       'education_7th-8th', 'education_9th', 'education_Assoc-acdm',\n",
       "       'education_Assoc-voc', 'education_Bachelors',\n",
       "       'education_Doctorate', 'education_HS-grad', 'education_Masters',\n",
       "       'education_Preschool', 'education_Prof-school',\n",
       "       'education_Some-college', 'native-country_Cambodia',\n",
       "       'native-country_Canada', 'native-country_China',\n",
       "       'native-country_Columbia', 'native-country_Cuba',\n",
       "       'native-country_Dominican-Republic', 'native-country_Ecuador',\n",
       "       'native-country_El-Salvador', 'native-country_England',\n",
       "       'native-country_France', 'native-country_Germany',\n",
       "       'native-country_Greece', 'native-country_Guatemala',\n",
       "       'native-country_Haiti', 'native-country_Honduras',\n",
       "       'native-country_Hong', 'native-country_Hungary',\n",
       "       'native-country_India', 'native-country_Iran',\n",
       "       'native-country_Ireland', 'native-country_Italy',\n",
       "       'native-country_Jamaica', 'native-country_Japan',\n",
       "       'native-country_Laos', 'native-country_Mexico',\n",
       "       'native-country_Nicaragua',\n",
       "       'native-country_Outlying-US(Guam-USVI-etc)', 'native-country_Peru',\n",
       "       'native-country_Philippines', 'native-country_Poland',\n",
       "       'native-country_Portugal', 'native-country_Puerto-Rico',\n",
       "       'native-country_Scotland', 'native-country_South',\n",
       "       'native-country_Taiwan', 'native-country_Thailand',\n",
       "       'native-country_Trinadad&Tobago', 'native-country_United-States',\n",
       "       'native-country_Vietnam', 'native-country_Yugoslavia',\n",
       "       'workclass_Federal-gov', 'workclass_Local-gov',\n",
       "       'workclass_Private', 'workclass_Self-emp-inc',\n",
       "       'workclass_Self-emp-not-inc', 'workclass_State-gov',\n",
       "       'workclass_Without-pay', 'marital-status_Divorced',\n",
       "       'marital-status_Married-AF-spouse',\n",
       "       'marital-status_Married-civ-spouse',\n",
       "       'marital-status_Married-spouse-absent',\n",
       "       'marital-status_Never-married', 'marital-status_Separated',\n",
       "       'marital-status_Widowed'], dtype='<U41')"
      ]
     },
     "execution_count": 108,
     "metadata": {},
     "output_type": "execute_result"
    }
   ],
   "source": [
    "adult50kp['columnname']"
   ]
  },
  {
   "cell_type": "markdown",
   "metadata": {},
   "source": [
    "為了能方便的比較，你所生成的Dictionary中x_train與x_test的欄位順序應該與adult50kp['columnname']相同。"
   ]
  },
  {
   "cell_type": "markdown",
   "metadata": {},
   "source": [
    "\n",
    "\n",
    "\n",
    "\n",
    "假設你生成的Dictionary叫adult50k，下面的範例程式比較這個變數與由picke檔案讀入的adult50kp中四個主要變數是否相同:\n",
    "\n",
    "```python\n",
    "elems = ['x_train', 'x_test', 'y_train', 'y_test']\n",
    "\n",
    "for aelem in elems:\n",
    "    cnomatch = np.sum(adult50kp[aelem] != adult50k[aelem])\n",
    "    if cnomatch == 0:\n",
    "        print(aelem, \"match!\")\n",
    "    else:\n",
    "        print(aelem, \"%d elements no match!\" % cnomatch)\n",
    "```"
   ]
  },
  {
   "cell_type": "code",
   "execution_count": 109,
   "metadata": {},
   "outputs": [
    {
     "name": "stdout",
     "output_type": "stream",
     "text": [
      "x_train match!\n",
      "x_test match!\n",
      "y_train match!\n",
      "y_test match!\n"
     ]
    }
   ],
   "source": [
    "elems = ['x_train', 'x_test', 'y_train', 'y_test']\n",
    "\n",
    "for aelem in elems:\n",
    "    cnomatch = np.sum(adult50kp[aelem] != my_dict[aelem])\n",
    "    if cnomatch == 0:\n",
    "        print(aelem, \"match!\")\n",
    "    else:\n",
    "        print(aelem, \"%d elements no match!\" % cnomatch)"
   ]
  },
  {
   "cell_type": "markdown",
   "metadata": {},
   "source": [
    "### 第二題 [ROC and AUC]\n",
    "(35%) Receiver operation characteristic (ROC)曲線以及其線下面積 (Area Under Curve; AUC)為衡量分類器預測能力常用的工具。本題將練習繪製ROC以及計算AUC。\n",
    "在這之前我們必須載入資料，訓練模型，並進行預測:"
   ]
  },
  {
   "cell_type": "code",
   "execution_count": 110,
   "metadata": {},
   "outputs": [
    {
     "name": "stdout",
     "output_type": "stream",
     "text": [
      "Accuracy = 0.848406\n"
     ]
    }
   ],
   "source": [
    "import pickle\n",
    "from sklearn.linear_model import LogisticRegression\n",
    "import numpy as np\n",
    "import matplotlib.pyplot as plt\n",
    "%matplotlib inline\n",
    "\n",
    "# load dataset\n",
    "dsfile = 'adult_m50k.pickle'\n",
    "with open(dsfile, 'rb') as fh1:\n",
    "    adult50kp = pickle.load(fh1)\n",
    "    \n",
    "#train prediction model    \n",
    "c = 0.3\n",
    "lr2 = LogisticRegression(solver = 'lbfgs', C= c, max_iter = 1000)\n",
    "lr2.fit(adult50kp['x_train'], adult50kp['y_train'])\n",
    "#make prediction\n",
    "ypred = lr2.predict(adult50kp['x_test'])\n",
    "ypredprob = lr2.predict_proba(adult50kp['x_test'])\n",
    "#compute accuracy\n",
    "ncorrect = np.sum(adult50kp['y_test'] == ypred)\n",
    "accuracy_sk = ncorrect / adult50kp['y_test'].shape[0]\n",
    "print(\"Accuracy = %f\" % accuracy_sk)    "
   ]
  },
  {
   "cell_type": "markdown",
   "metadata": {},
   "source": [
    "#### 回答下面問題:\n",
    "\n",
    "* Q2.1 (17.5%): 基於`adult50kp['y_test']`與`ypredprob`繪製ROC Curve。\n",
    "* Q2.2 (17.5%): 計算繪製出的ROC Curve的AUC。\n",
    "\n",
    "規定與提示:\n",
    "* 禁用現成的ROC與AUC計算函數，如 `sklearn.metrics.roc_curve`與`sklearn.metrics.auc`。違者本題零分。\n",
    "* 計算AUC時可以利用相鄰的FP_Rate與其對應的TP_Rate所形成的梯形近似該小塊面積，然後加總所有梯形的面積即可得到AUC。梯形面積計算請參考下圖。\n",
    "\n",
    "![AUC Tip](tipsauc.png)"
   ]
  },
  {
   "cell_type": "markdown",
   "metadata": {},
   "source": [
    "### Q2.1"
   ]
  },
  {
   "cell_type": "code",
   "execution_count": 512,
   "metadata": {},
   "outputs": [],
   "source": [
    "def score(df , n):\n",
    "    tp = sum(df['y_test'])\n",
    "    tn = df.shape[0] - tp\n",
    "    right = sum(df.iloc[:n]['y_test'])\n",
    "    wrong = n - right\n",
    "\n",
    "    return (right/tp), (wrong/tn)\n",
    "\n",
    "\n",
    "prob_dict = {}\n",
    "prob_arr = ypredprob[:,1]\n",
    "\n",
    "prob_dict['y_test'] = adult50kp['y_test']\n",
    "prob_dict['prob'] = prob_arr\n",
    "\n",
    "df = pd.DataFrame(prob_dict)\n",
    "df.sort_values(by=['prob'], ascending=False, inplace=True)\n",
    "df = df.reset_index(drop=True)\n",
    "\n",
    "tpr = []\n",
    "fpr = []\n",
    "for i in range(len(df)):\n",
    "    t, f = score(df, i)\n",
    "    tpr.append(t)\n",
    "    fpr.append(f)"
   ]
  },
  {
   "cell_type": "code",
   "execution_count": 513,
   "metadata": {},
   "outputs": [
    {
     "data": {
      "image/png": "[encoded data removed]",
      "text/plain": [
       "<Figure size 432x288 with 1 Axes>"
      ]
     },
     "metadata": {
      "needs_background": "light"
     },
     "output_type": "display_data"
    }
   ],
   "source": [
    "import matplotlib.pyplot as plt\n",
    "%matplotlib inline\n",
    "\n",
    "plt.ylabel(\"TPR\")\n",
    "plt.xlabel(\"FPR\")\n",
    "plt.plot(fpr, tpr)\n",
    "plt.title(\"ROC\") \n",
    "plt.show()"
   ]
  },
  {
   "cell_type": "markdown",
   "metadata": {},
   "source": [
    "### Q2.2"
   ]
  },
  {
   "cell_type": "code",
   "execution_count": 514,
   "metadata": {},
   "outputs": [
    {
     "name": "stdout",
     "output_type": "stream",
     "text": [
      "0.9034035972592311\n"
     ]
    }
   ],
   "source": [
    "print(np.trapz(tpr, fpr))"
   ]
  },
  {
   "cell_type": "markdown",
   "metadata": {},
   "source": [
    "### 第三題 [Logistic Regression with L2 Regularization]\n",
    "\n",
    "(55%) The Logistic regression with L2 regularization minimize the following error function:\n",
    "\n",
    "\n",
    "$\\frac{\\lambda}{2} w^T w - \\sum_{i=1}^n [ t_i \\ln y_i  + (1 - t_i) \\ln (1 - y_i)],$\n",
    "\n",
    "where $y_i = \\frac{1}{1 + exp({-w^T x_i})}$ and $t_i \\in \\{0, 1\\}$ is the label value, $x_i$ is the feature vector, and $w$ is the regression coefficient vector. \n",
    "\n",
    "\n",
    "We are going to consider an extension of this model to allow different levels of regularization for different regression coefficients. Consider the constant term versus other features. The coefficient of the constant term is usually not regularized in logistic regression. It is because the constant term is related to the odds ratio when all features are zero, and regularizing this term will force the probability of the positive class given a zero feature vector to be 0.5, which may or may not be reasonable.  \n",
    "\n",
    "Another consideration is regarding the continuous-valued features and binary-valued features. We typically normalize continuous-valued features to have zero means and unit variances but keep binary-value features untouched. It makes sense to have a single regularization value for the continuous-valued features since all of them have been normalized. Similarly, if we do not have additional information, then all binary-valued features can have the same level of regularization. However, using the same regularization coefficient for the continuous-valued and binary-valued features may not be reasonable. That is, it is often beneficial to have a regularization coefficient for the continuous-valued features and another regularization coefficient for the binary-valued features. \n",
    "\n",
    "The above discussion suggests that a more sophisticated way to regularize a logistic regression is to have three regularization coefficients: 0 for the constant, $a_1$ for continuous-valued features, and $a_2$ for the binary-valued features. It is possible to further refine the regularization coefficients. However, hyper-parameter tuning associated with more regularization coefficients may be costly. \n",
    "\n",
    "To achieve this goal, we are going to consider a variation of L2-regularized logistic regression that allows different levels of regularization for each coefficient. In the following discussion, we are going to use $X$ to denote the feature matrix in the training data. The i-th row in $X$, $x_i$, is the feature vector for the i-th training data. The last column of $X$ is one unless we do not include the constant term. \n",
    "\n",
    "In this model, each regression coefficient may be associated with a different regularization coefficient. Bearing with the risk of ambigulity, we (again) use the scalar $\\lambda_k$ to denote the regularization coefficient for $w_k$.  The vector $w = [w_1, w_2, ..., w_D]^T$ is the  regression coefficient vector. Let $\\Lambda$ denote the diagonal matrix that have $\\lambda_k$ at $\\Lambda_{kk}$. Our new error function becomes: \n",
    "\n",
    "$E(w) = \\frac{1}{2} w^T \\Lambda w - \\sum_{i=1}^n [ t_i \\ln y_i  + (1 - t_i) \\ln (1 - y_i)],$\n",
    "\n",
    "where $y_i = \\frac{1}{1 + exp({-w^T x_i})}$. "
   ]
  },
  {
   "cell_type": "markdown",
   "metadata": {},
   "source": [
    "This model allows $w_k$ to have regularization coefficient $\\lambda_k$. If the constant term is the last element in $w$, then setting $\\lambda_D$ to $0$ allows us to free the constant term from regularization. We can set $\\lambda_k$ associated with continuous-valued features to one value, and elements associated with binary-value features to another value. This will achieve our goal of a more refined regularization structure. \n",
    "\n",
    "Following the PRML textbook and the class discussion, we are going to train the model using the Newton-Raphson optimization method. In order to do so, you need to derive the gradient and hessian of $E(w)$. Given the training dataset, we can optimize $w$ via \n",
    "\n",
    "$w^{(new)} = w^{(old)} - H^{-1} \\nabla E$\n",
    "\n",
    "To do so, we need to have an initial vector of $w$ to kick start the iteration. One way to do this is to use the closed-form solution of ridge regression: $w = (X^T X + b I)^{-1} X^T t$, where $t$ is the vector of training labels. Set $b$ to the average of $\\lambda_i$. Another way is to change the original L2 regularization term in ridge regression to $\\frac{1}{2}w^T \\Lambda w$ and derive the new closed-form solution that matches our model. \n",
    "\n",
    "\n"
   ]
  },
  {
   "cell_type": "markdown",
   "metadata": {},
   "source": [
    "Create a Python class named mylogistic_l2 that performs model training and prediction. \n",
    "\n",
    "The sample usage should be like the following:\n",
    "```python\n",
    "logic1 = mylogistic_l2(reg_vec = lambda_vec, max_iter = 1000, tol = 1e-5, add_intercept = True)\n",
    "logic1.fit(X_train, Y_train)\n",
    "ypred = logic1.predict(X_test)\n",
    "```\n",
    "The first line is to create an object with the specified regularization coefficient vector, lambda_vec, and set the maximum number of iteration to 1000. The \"tol\" parameter sets the stopping condition for Newton-Raphson optimization. The iteration will stop if the improvement on the error function is less than $10^{-5}$. The \"add_intercept\" option says that we need to add a column of ones to the end of X_train before model training. The length of lambda_vec, as a result, should match the number of columns after adding the \"one column\" when this option is turned on. \n",
    "\n",
    "Use the following skeleton to create your mylogistic_l2 class:\n",
    "```python\n",
    "class mylogistic_l2():\n",
    "    def __init__(self, reg_vec, max_iter = 100, tol = 1e-5, add_intercept = True):\n",
    "        \"\"\"reg_vec: the regularization coefficient vector\n",
    "           max_iter: maximum number of iteration to run for the Newton method\n",
    "           tol: tolerance for the objective function\n",
    "           add_intercept: whether to add intercept (a column of ones) at last column of the feature matrix\"\"\"\n",
    "        ### Add your code here\n",
    "\n",
    "    def fit(self, x, y, verbal = False):\n",
    "        #Add your code here\n",
    "\n",
    "    def predict(self, x):\n",
    "        \"\"\"doing prediction\"\"\"\n",
    "        ### add your code here.     \n",
    "```\n",
    "\n",
    "\n",
    "\n",
    "To simplify the discussion, we use 0.5 as the threshold for the positive case when making predictions. That is, the output of the last line should be a numpy array of 0 and 1s."
   ]
  },
  {
   "cell_type": "markdown",
   "metadata": {},
   "source": [
    "#### Implementation Restrictions\n",
    "You are allowed to use the \"building block\" libraries including numpy and scipy in your own mylogistic_l2 class. You will receive a zero score if you adopted an existing logistic regression classifier in your answer. The input features and labels for the training method should be numpy arrays. The input features and output labels for the predict method should be numpy arrays. "
   ]
  },
  {
   "cell_type": "markdown",
   "metadata": {},
   "source": [
    "#### Dataset\n",
    "We are going to use to \"Adult\" dataset on the UCI machine learning reposition <https://archive.ics.uci.edu/ml/datasets/Adult>. Do not download the raw data from the website. Instead, load the processed data from **adult_m50k.pickle** using the following sample code: \n",
    "\n",
    "```python\n",
    "dsfile = 'adult_m50k.pickle'\n",
    "with open(dsfile, 'rb') as fh1:\n",
    "    adult50kp = pickle.load(fh1)\n",
    "```    \n",
    "    \n",
    "You can access the training and test data using the following keys: 'x_train', 'x_test', 'y_train', 'y_test'. In addition, the key 'columnname' map the a list of column names, and the key 'num_col' map to a list of numeric columns. \n"
   ]
  },
  {
   "cell_type": "markdown",
   "metadata": {},
   "source": [
    "Answer the following questions:\n",
    "\n",
    "* Q1.1 (15%) Derive the gradient and hessian matrix for the new E(w). \n",
    "* Q1.2 (25%) Create your mylogistic_l2 class. Train your model and show the learned $w$ as well as test accuracy for the cases below. If $w$ is too long for you, show selected $w$ for continuous-valued, binary-valued, and the constant term.  \n",
    "    * Case 1: lambda = 1 for all coefficients\n",
    "    * Case 2: lambda = 1 for all but the intercept, no regularization for intercept term.\n",
    "    * Case 3: lambda = 1 for numerical-valued features, lambda = 0.5 for binary-valued features, no regularization for intercept term.\n",
    "* Q1.3 (10%) Further split the training data into subtraining (90%) and tuning (10%) to search for the best hyperparameters. Set the regularization coefficient for the constant term to zero. Allow different regularizations for continuous-valued and binary-valued features. Let $a_1$ and $a_2$ denote the regularization coefficients for continuous-valued and binary-valued features. Search the best $a_1$ and $a_2$ and report the test accuracy using the best hyper-parameters. You should follow the following procedure to search for the best hyperparameters. \n",
    "    1. Choose a set of grids among a reasonable range. For example, 10 grids in [0.01, 100]. \n",
    "    2. Conduct grid search with the constraint that $a_1 = a_2$. Record the best value $a_1^*$ and $a_2^*$.\n",
    "    3. Fix $a_1 = a_1^*$, and search $a_2$ for the best value, call the result the new $a_2^*$. \n",
    "    4. Fix $a_2 = a_2^*$, and search $a_1$ for the best value.\n",
    "    5. Report the selected $a_1$ and $a_2$.\n",
    "    6. Train a model using the selected hyper-parameters, and report the test accuracy. \n",
    "  \n",
    "* Q1.4 (5%) Use sklearn.linear_model.LogisticRegression to train and test the model (including hyperparameter tuning). Compare the estimated parameters and test accuracy with those from your own models. "
   ]
  },
  {
   "cell_type": "markdown",
   "metadata": {},
   "source": [
    "### Q1.1"
   ]
  },
  {
   "cell_type": "markdown",
   "metadata": {},
   "source": [
    "$$ \n",
    "{\\nabla}E(w) = \\frac{{\\partial}E(w)}{{\\partial}w} = \\frac{1}{2}({\\Lambda}^{T} + {\\Lambda})w + \\sum \\limits _{i=1} ^{n}(y_i-t_i)x_i = {\\Lambda}w+x^T (y-t)\n",
    "$$"
   ]
  },
  {
   "cell_type": "markdown",
   "metadata": {},
   "source": [
    "$$\n",
    "H = {\\nabla}{\\nabla}E(w) = {\\Lambda} + \\sum \\limits _{i=1} ^{n}(y_i)(1-y_i)x_i x{_i^T} = {\\Lambda}+x^T R x\n",
    "$$"
   ]
  },
  {
   "cell_type": "markdown",
   "metadata": {},
   "source": [
    "### Q1.2"
   ]
  },
  {
   "cell_type": "code",
   "execution_count": 407,
   "metadata": {},
   "outputs": [],
   "source": [
    "from scipy.special import expit, logit\n",
    "\n",
    "class mylogistic_l2():\n",
    "    def __init__(self, reg_vec, max_iter = 100, tol = 1e-5, add_intercept = True):\n",
    "        \"\"\"reg_vec: the regularization coefficient vector\n",
    "           max_iter: maximum number of iteration to run for the Newton method\n",
    "           tol: tolerance for the objective function\n",
    "           add_intercept: whether to add intercept (a column of ones) at last column of the feature matrix\"\"\"\n",
    "        ### Add your code here\n",
    "        self.reg_vec = reg_vec\n",
    "        self.max_iter = max_iter\n",
    "        self.tol = tol\n",
    "        self.add_intercept = add_intercept\n",
    "        \n",
    "    def fit(self, x, y, verbal = False):\n",
    "        #Add your code here\n",
    "        x = np.c_[x, np.ones(len(x))] if self.add_intercept else x\n",
    "        x_length, x_num = x.shape\n",
    "        \n",
    "        b = self.reg_vec.trace() / self.reg_vec.shape[0] # averge of lambda\n",
    "        w = np.linalg.inv(x.T.dot(x) + b*np.identity(x_num)).dot(x.T).dot(y) # w init\n",
    "\n",
    "        first_it = True\n",
    "        for it in range(self.max_iter):\n",
    "            sigmoid = expit(w.T.dot(x.T))\n",
    "#             print(sigmoid)\n",
    "            error = (w.T.dot(self.reg_vec).dot(w))/2 - np.sum(y*np.log(sigmoid) + (1-y)*np.log(1-sigmoid))\n",
    "#             print(error)\n",
    "            if first_it:\n",
    "                first_it = False\n",
    "            else:\n",
    "                if old_error - error < self.tol:\n",
    "                    break\n",
    "            old_error = error\n",
    "            \n",
    "            error_grad = self.reg_vec.dot(w) + x.T.dot(sigmoid - y)\n",
    "            error_hess = self.reg_vec + x.T.dot(np.diagflat(sigmoid*(1-sigmoid))).dot(x)\n",
    "            \n",
    "            w_new = w - np.linalg.inv(error_hess).dot(error_grad)\n",
    "            w = w_new\n",
    "            \n",
    "        self.w = w\n",
    "            \n",
    "    def predict(self, x):\n",
    "        \"\"\"doing prediction\"\"\"\n",
    "        ### add your code here.     \n",
    "        x = np.c_[x, np.ones(len(x))] if self.add_intercept else x\n",
    "        prob = expit(self.w.T.dot(x.T))\n",
    "        for i in range(len(prob)):\n",
    "            if prob[i]>0.5:\n",
    "                prob[i] = 1\n",
    "            else:\n",
    "                prob[i] = 0\n",
    "                \n",
    "        return prob\n"
   ]
  },
  {
   "cell_type": "code",
   "execution_count": 408,
   "metadata": {},
   "outputs": [],
   "source": [
    "dsfile = 'adult_m50k.pickle'\n",
    "with open(dsfile, 'rb') as fh1:\n",
    "    adult50kp = pickle.load(fh1)\n",
    "    \n",
    "X_train = adult50kp['x_train']\n",
    "Y_train = adult50kp['y_train']\n",
    "\n",
    "X_test = adult50kp['x_test']\n",
    "Y_test = adult50kp['y_test']"
   ]
  },
  {
   "cell_type": "markdown",
   "metadata": {},
   "source": [
    "### case 1"
   ]
  },
  {
   "cell_type": "code",
   "execution_count": 419,
   "metadata": {},
   "outputs": [
    {
     "name": "stdout",
     "output_type": "stream",
     "text": [
      "w: [ 2.58310749e-01  3.52951378e-01  2.33390152e+00  7.51145211e-01\n",
      "  3.33524430e-01  7.92368680e-02 -2.59305992e-01 -3.31059192e-02\n",
      " -8.02092312e-01 -1.16328375e+00 -1.57480268e-01  1.06974336e+00\n",
      " -6.33846058e-01  1.16732409e-01 -2.31567381e-01 -5.17122207e-01\n",
      " -7.97216465e-02 -1.09949780e+00 -2.46027086e-01  6.19694928e-02\n",
      "  1.26685884e-01  8.62656059e-01 -9.18352843e-01 -6.21226177e-01\n",
      " -2.00740224e-01 -7.51600981e-01 -1.61011588e+00  5.75820911e-01\n",
      "  6.48995283e-01  3.53741434e-01  7.17218474e-01 -2.84494743e-02\n",
      " -9.54820746e-04 -1.96540899e-01 -1.46351640e-01  6.26946275e-01\n",
      "  4.48207080e-01  2.45945819e-02  4.69223657e-02 -4.91067746e-01\n",
      " -2.03035424e-01 -1.63303680e-01 -1.76623501e-02 -1.11328323e-01\n",
      " -9.94618240e-02 -1.17391916e+00  1.80702678e-01 -6.92720004e-02\n",
      "  9.76496905e-01  4.60988601e-01 -4.95440416e-01 -1.27203531e+00\n",
      "  4.86772406e-01 -8.98963733e-01 -6.00542591e-02 -3.50848853e-01\n",
      "  4.32815220e-01  5.94120150e-01  5.82151924e-01 -6.20962283e-01\n",
      " -5.97480378e-02  9.29035250e-02 -1.51892101e-01 -5.38528893e-03\n",
      "  3.41609087e-02 -2.89088236e-01  1.56053911e-01  4.95401243e-01\n",
      "  8.90942264e-01  1.49151436e-01  3.42484779e-01 -3.13312160e-01\n",
      " -3.55939108e-01 -3.62494608e-01 -6.67247475e-01 -4.08831130e-01\n",
      "  4.47489832e-01  1.37768931e-01  1.41351233e-01 -1.16015421e-01\n",
      " -5.61032710e-02 -9.34583042e-01 -2.92596523e-02 -2.99012958e-01\n",
      " -1.50511251e-01  3.52331870e-01 -7.85846536e-01  5.80200207e-01\n",
      "  4.97042311e-01 -1.90320740e-01 -3.47717245e-04  1.74993805e-01\n",
      " -4.88202695e-01 -3.12259616e-01 -1.02643023e+00 -7.22310834e-01\n",
      "  1.44672469e+00  1.15520745e+00 -6.80202902e-01 -1.21195630e+00\n",
      " -7.98338505e-01 -5.34648484e-01 -1.34552489e+00]\n",
      "accuracy: 0.847875166002656\n"
     ]
    }
   ],
   "source": [
    "lambda_vec = np.identity(X_train.shape[1]+1)\n",
    "\n",
    "logic1 = mylogistic_l2(reg_vec = lambda_vec, max_iter = 1000, tol = 1e-5, add_intercept = True)\n",
    "logic1.fit(X_train, Y_train)\n",
    "ypred = logic1.predict(X_test)\n",
    "\n",
    "print(f\"w: {logic1.w}\")\n",
    "print(f\"accuracy: {np.sum(np.equal(ypred, Y_test)) / Y_test.shape[0]}\")"
   ]
  },
  {
   "cell_type": "markdown",
   "metadata": {},
   "source": [
    "### case 2"
   ]
  },
  {
   "cell_type": "code",
   "execution_count": 423,
   "metadata": {},
   "outputs": [
    {
     "name": "stdout",
     "output_type": "stream",
     "text": [
      "w: [ 0.25833063  0.35307341  2.33348255  0.7378757   0.33385106  0.07926886\n",
      " -0.04219572  0.1998764  -0.58360968 -0.93671312  0.07548468  1.28715744\n",
      " -0.37140327  0.39422898  0.04305748 -0.26147348  0.19559029 -0.42695771\n",
      "  0.42695771  0.16424528  0.22840772  0.96472553 -0.81743779 -0.52074423\n",
      " -0.09910239 -0.64944042 -1.55235098  0.6786798   0.75066429  0.45541098\n",
      "  0.81857112  0.07308911  0.0728464  -0.11752644 -0.06282948  0.67242506\n",
      "  0.5040869   0.08799091  0.11435013 -0.38483984 -0.10196309 -0.05145374\n",
      "  0.10741777 -0.01997934  0.01717544 -1.16567808  0.30082277  0.02715464\n",
      "  1.00831207  0.50210397 -0.45756662 -1.24002555  0.52780939 -0.86832688\n",
      " -0.02771494 -0.31412701  0.47343435  0.62981111  0.62405658 -0.5867506\n",
      " -0.0296708   0.12414401 -0.14376238  0.02434194  0.0621604  -0.24843986\n",
      "  0.19459429  0.52620501  0.93165615  0.18707696  0.37950109 -0.28749402\n",
      " -0.31137357 -0.33290534 -0.65117786 -0.38160106  0.48879121  0.17662205\n",
      "  0.17410342 -0.07343502 -0.0314651  -0.89846776  0.00653561 -0.27232555\n",
      " -0.12442075  0.39697177 -0.75318727  0.61067658  0.70544004  0.01789988\n",
      "  0.2090388   0.382747   -0.2795817  -0.10453082 -0.9310132  -0.52642474\n",
      "  1.61398954  1.36735898 -0.49235221 -1.01493649 -0.60567591 -0.34195917\n",
      " -3.17508577]\n",
      "accuracy: 0.8477423638778221\n"
     ]
    }
   ],
   "source": [
    "lambda_vec = np.identity(X_train.shape[1]+1)\n",
    "lambda_vec[-1][-1] = 0\n",
    "logic2 = mylogistic_l2(reg_vec = lambda_vec, max_iter = 1000, tol = 1e-5, add_intercept = True)\n",
    "logic2.fit(X_train, Y_train)\n",
    "ypred2 = logic2.predict(X_test)\n",
    "\n",
    "print(f\"w: {logic2.w}\")\n",
    "print(f\"accuracy: {np.sum(np.equal(ypred2, Y_test)) / Y_test.shape[0]}\")"
   ]
  },
  {
   "cell_type": "markdown",
   "metadata": {},
   "source": [
    "### case 3"
   ]
  },
  {
   "cell_type": "code",
   "execution_count": 426,
   "metadata": {},
   "outputs": [
    {
     "name": "stdout",
     "output_type": "stream",
     "text": [
      "w: [ 0.25851661  0.3533387   2.33562764  0.7825921   0.33439916  0.07940036\n",
      " -0.08347988  0.23309134 -0.59278098 -0.9224849   0.11139573  1.25425869\n",
      " -0.38299462  0.41291781  0.04136013 -0.26411462  0.19283128 -0.42890321\n",
      "  0.42890321  0.23635122  0.30021361  1.03810521 -0.75216086 -0.4534137\n",
      " -0.02691157 -0.5825269  -2.00075382  0.75127891  0.82696617  0.52830705\n",
      "  0.89488994  0.14510375  0.18253094 -0.02583999  0.00991404  0.89862004\n",
      "  0.68517002  0.23294385  0.24519931 -0.38363083 -0.08029608 -0.06493444\n",
      "  0.0453608   0.03743376 -0.01295908 -2.09374319  0.25763304  0.06659781\n",
      "  1.18748312  0.55059265 -0.47576613 -1.45842154  0.5822242  -1.0627833\n",
      " -0.00957211 -0.31704572  0.52485137  0.73044517  0.67457228 -0.63624179\n",
      " -0.00967268  0.17339113 -0.2364757   0.0375474   0.10120874 -0.24679341\n",
      "  0.23800627  0.64228457  1.00567032  0.23258941  0.42267607 -0.35336167\n",
      " -0.29178766 -0.38125401 -0.96291964 -0.45007954  0.512985    0.22019382\n",
      "  0.22640627 -0.04989103 -0.01836864 -0.95953334  0.01656804 -0.32741555\n",
      " -0.14011404  0.42856024 -0.84476926  0.75121645  0.76670733  0.07638783\n",
      "  0.26824615  0.44314098 -0.2205815  -0.04631789 -1.28758289 -0.57187068\n",
      "  1.82502287  1.39622511 -0.54691696 -1.05894077 -0.65551468 -0.38800489\n",
      " -3.36269033]\n",
      "accuracy: 0.847675962815405\n"
     ]
    }
   ],
   "source": [
    "lambda_vec = np.identity(X_train.shape[1]+1)/2\n",
    "for i in range(6):\n",
    "    lambda_vec[i][i] = 1\n",
    "lambda_vec[-1][-1] = 0\n",
    "\n",
    "logic3 = mylogistic_l2(reg_vec = lambda_vec, max_iter = 1000, tol = 1e-5, add_intercept = True)\n",
    "logic3.fit(X_train, Y_train)\n",
    "ypred3 = logic3.predict(X_test)\n",
    "\n",
    "print(f\"w: {logic3.w}\")\n",
    "print(f\"accuracy: {np.sum(np.equal(ypred3, Y_test)) / Y_test.shape[0]}\")"
   ]
  },
  {
   "cell_type": "markdown",
   "metadata": {},
   "source": [
    "### Q1.3"
   ]
  },
  {
   "cell_type": "code",
   "execution_count": 430,
   "metadata": {},
   "outputs": [],
   "source": [
    "from sklearn.model_selection import train_test_split\n",
    "\n",
    "x_subtraining, x_tune, y_subtraining, y_tune = train_test_split(X_train, Y_train, test_size=0.1)\n",
    "\n",
    "grids = [0.01, 0.05, 0.1, 0.5, 1, 5, 10, 20, 50, 100]"
   ]
  },
  {
   "cell_type": "markdown",
   "metadata": {},
   "source": [
    "1. Choose a set of grids among a reasonable range. For example, 10 grids in [0.01, 100]. "
   ]
  },
  {
   "cell_type": "code",
   "execution_count": 434,
   "metadata": {},
   "outputs": [
    {
     "name": "stdout",
     "output_type": "stream",
     "text": [
      "a1: 0.01   a2: 0.01    accuracy: 0.8544912164401723\n",
      "a1: 0.05   a2: 0.05    accuracy: 0.8541597613523367\n",
      "a1: 0.1   a2: 0.1    accuracy: 0.8541597613523367\n",
      "a1: 0.5   a2: 0.5    accuracy: 0.8541597613523367\n",
      "a1: 1   a2: 1    accuracy: 0.8541597613523367\n",
      "a1: 5   a2: 5    accuracy: 0.854822671528008\n",
      "a1: 10   a2: 10    accuracy: 0.854822671528008\n",
      "a1: 20   a2: 20    accuracy: 0.8538283062645011\n",
      "a1: 50   a2: 50    accuracy: 0.8528339410009944\n",
      "a1: 100   a2: 100    accuracy: 0.8528339410009944\n"
     ]
    }
   ],
   "source": [
    "a1, a2 = 0, 0\n",
    "for grid in grids:\n",
    "    a1 = grid\n",
    "    a2 = grid\n",
    "    lambda_vec = np.identity(x_subtraining.shape[1]+1)*a2\n",
    "    for i in range(6):\n",
    "        lambda_vec[i][i] = a1\n",
    "    lambda_vec[-1][-1] = 0\n",
    "\n",
    "    logic = mylogistic_l2(reg_vec = lambda_vec, max_iter = 1000, tol = 1e-5, add_intercept = True)\n",
    "    logic.fit(x_subtraining, y_subtraining)\n",
    "    ypred = logic.predict(x_tune)\n",
    "\n",
    "    print(f\"a1: {a1}   a2: {a2}    accuracy: {np.sum(np.equal(ypred, y_tune)) / y_tune.shape[0]}\")"
   ]
  },
  {
   "cell_type": "markdown",
   "metadata": {},
   "source": [
    "a1* = 5, the highest accuracy. Then find the a2*"
   ]
  },
  {
   "cell_type": "code",
   "execution_count": 435,
   "metadata": {},
   "outputs": [
    {
     "name": "stdout",
     "output_type": "stream",
     "text": [
      "a1: 5   a2: 0.01    accuracy: 0.854822671528008\n",
      "a1: 5   a2: 0.05    accuracy: 0.8541597613523367\n",
      "a1: 5   a2: 0.1    accuracy: 0.8541597613523367\n",
      "a1: 5   a2: 0.5    accuracy: 0.8538283062645011\n",
      "a1: 5   a2: 1    accuracy: 0.8541597613523367\n",
      "a1: 5   a2: 5    accuracy: 0.854822671528008\n",
      "a1: 5   a2: 10    accuracy: 0.8551541266158436\n",
      "a1: 5   a2: 20    accuracy: 0.8525024859131588\n",
      "a1: 5   a2: 50    accuracy: 0.8521710308253232\n",
      "a1: 5   a2: 100    accuracy: 0.8541597613523367\n"
     ]
    }
   ],
   "source": [
    "a1 = 5\n",
    "for grid in grids:\n",
    "    a2 = grid\n",
    "    lambda_vec = np.identity(x_subtraining.shape[1]+1)*a2\n",
    "    for i in range(6):\n",
    "        lambda_vec[i][i] = a1\n",
    "    lambda_vec[-1][-1] = 0\n",
    "\n",
    "    logic = mylogistic_l2(reg_vec = lambda_vec, max_iter = 1000, tol = 1e-5, add_intercept = True)\n",
    "    logic.fit(x_subtraining, y_subtraining)\n",
    "    ypred = logic.predict(x_tune)\n",
    "\n",
    "    print(f\"a1: {a1}   a2: {a2}    accuracy: {np.sum(np.equal(ypred, y_tune)) / y_tune.shape[0]}\")"
   ]
  },
  {
   "cell_type": "markdown",
   "metadata": {},
   "source": [
    "a2* = 10, the highest accuracy. Then find the a1* again\n"
   ]
  },
  {
   "cell_type": "code",
   "execution_count": 436,
   "metadata": {},
   "outputs": [
    {
     "name": "stdout",
     "output_type": "stream",
     "text": [
      "a1: 0.01   a2: 10    accuracy: 0.8541597613523367\n",
      "a1: 0.05   a2: 10    accuracy: 0.8541597613523367\n",
      "a1: 0.1   a2: 10    accuracy: 0.8538283062645011\n",
      "a1: 0.5   a2: 10    accuracy: 0.8538283062645011\n",
      "a1: 1   a2: 10    accuracy: 0.8541597613523367\n",
      "a1: 5   a2: 10    accuracy: 0.8551541266158436\n",
      "a1: 10   a2: 10    accuracy: 0.854822671528008\n",
      "a1: 20   a2: 10    accuracy: 0.8554855817036792\n",
      "a1: 50   a2: 10    accuracy: 0.854822671528008\n",
      "a1: 100   a2: 10    accuracy: 0.8561484918793504\n"
     ]
    }
   ],
   "source": [
    "a2 = 10\n",
    "for grid in grids:\n",
    "    a1 = grid\n",
    "    lambda_vec = np.identity(x_subtraining.shape[1]+1)*a2\n",
    "    for i in range(6):\n",
    "        lambda_vec[i][i] = a1\n",
    "    lambda_vec[-1][-1] = 0\n",
    "\n",
    "    logic = mylogistic_l2(reg_vec = lambda_vec, max_iter = 1000, tol = 1e-5, add_intercept = True)\n",
    "    logic.fit(x_subtraining, y_subtraining)\n",
    "    ypred = logic.predict(x_tune)\n",
    "\n",
    "    print(f\"a1: {a1}   a2: {a2}    accuracy: {np.sum(np.equal(ypred, y_tune)) / y_tune.shape[0]}\")"
   ]
  },
  {
   "cell_type": "markdown",
   "metadata": {},
   "source": [
    "a1* = 100,$\\ $ a2* = 10"
   ]
  },
  {
   "cell_type": "markdown",
   "metadata": {},
   "source": [
    "6. Train a model using the selected hyper-parameters, and report the test accuracy. "
   ]
  },
  {
   "cell_type": "code",
   "execution_count": 439,
   "metadata": {},
   "outputs": [
    {
     "name": "stdout",
     "output_type": "stream",
     "text": [
      "a1: 100   a2: 10    accuracy: 0.847875166002656\n"
     ]
    }
   ],
   "source": [
    "a1 = 100\n",
    "a2 = 10\n",
    "lambda_vec = np.identity(X_train.shape[1]+1)*a2\n",
    "for i in range(6):\n",
    "    lambda_vec[i][i] = a1\n",
    "lambda_vec[-1][-1] = 0\n",
    "\n",
    "logic = mylogistic_l2(reg_vec = lambda_vec, max_iter = 1000, tol = 1e-5, add_intercept = True)\n",
    "logic.fit(X_train, Y_train)\n",
    "ypred = logic.predict(X_test)\n",
    "\n",
    "print(f\"a1: {a1}   a2: {a2}    accuracy: {np.sum(np.equal(ypred, Y_test)) / Y_test.shape[0]}\")"
   ]
  },
  {
   "cell_type": "markdown",
   "metadata": {},
   "source": [
    "### Q1.5"
   ]
  },
  {
   "cell_type": "code",
   "execution_count": 463,
   "metadata": {},
   "outputs": [
    {
     "name": "stdout",
     "output_type": "stream",
     "text": [
      "0.01: 0.8418959231024197\n",
      "0.05: 0.848193569771296\n",
      "0.1: 0.8485250248591316\n",
      "0.5: 0.8498508452104739\n",
      "1: 0.8488564799469672\n",
      "5: 0.8491879350348028\n",
      "10: 0.8495193901226383\n",
      "20: 0.8498508452104739\n",
      "50: 0.8498508452104739\n",
      "100: 0.8495193901226383\n"
     ]
    }
   ],
   "source": [
    "from sklearn.linear_model import LogisticRegression\n",
    "\n",
    "x_subtraining, x_tune, y_subtraining, y_tune = train_test_split(X_train, Y_train, test_size=0.1)\n",
    "grids = [0.01, 0.05, 0.1, 0.5, 1, 5, 10, 20, 50, 100]\n",
    "for grid in grids:\n",
    "    clf = LogisticRegression(solver='newton-cg', penalty='l2', max_iter=1000, C=grid)\n",
    "    clf.fit(x_subtraining, y_subtraining)\n",
    "    print(f\"{grid}: {clf.score(x_tune, y_tune)}\")\n"
   ]
  },
  {
   "cell_type": "markdown",
   "metadata": {},
   "source": [
    "c = 5, 具有最大的accuracy"
   ]
  },
  {
   "cell_type": "code",
   "execution_count": 464,
   "metadata": {},
   "outputs": [
    {
     "data": {
      "text/plain": [
       "0.8476095617529881"
      ]
     },
     "execution_count": 464,
     "metadata": {},
     "output_type": "execute_result"
    }
   ],
   "source": [
    "clf = LogisticRegression(solver='newton-cg', penalty='l2', max_iter=1000, C=grid)\n",
    "clf.fit(X_train, Y_train)\n",
    "clf.score(X_test, Y_test)"
   ]
  },
  {
   "cell_type": "markdown",
   "metadata": {},
   "source": [
    "與Q1.4我的0.847875166002656只差0.0002"
   ]
  },
  {
   "cell_type": "markdown",
   "metadata": {},
   "source": [
    "比較weights"
   ]
  },
  {
   "cell_type": "code",
   "execution_count": 465,
   "metadata": {},
   "outputs": [
    {
     "name": "stdout",
     "output_type": "stream",
     "text": [
      "my model weights square: 23.958030678898965\n",
      "sklearn model weights square: 168.96063000211714\n"
     ]
    }
   ],
   "source": [
    "print(\"my model weights square: \" + str(np.sum(logic.w*(logic.w))))\n",
    "print(\"sklearn model weights square: \"+str(np.sum(clf.coef_*(clf.coef_))))"
   ]
  },
  {
   "cell_type": "code",
   "execution_count": 466,
   "metadata": {},
   "outputs": [
    {
     "name": "stdout",
     "output_type": "stream",
     "text": [
      "[[ 0.25947584  0.35337268  2.385681    1.18812543  0.33493812  0.0794016\n",
      "  -0.16532957  0.28211611 -0.56793536 -0.90129356  0.16555025  1.18530524\n",
      "  -0.39583487  0.43218335  0.04015267 -0.269728    0.19163997 -0.43306684\n",
      "   0.43147995  0.964972    1.0285948   1.77014048 -0.01708801  0.27001499\n",
      "   0.70155051  0.14048348 -3.0916877   1.48137787  1.56242753  1.25910392\n",
      "   1.62954443  0.87497276  1.0216802   0.65062981  0.53324565  2.44208696\n",
      "   2.02299936  1.38949901  1.25005068 -0.50418178 -0.03962489 -0.34093133\n",
      "  -0.70239029  0.39759221 -0.4469354  -7.61456215 -0.328218    0.26747305\n",
      "   1.51820658  0.71085287 -0.39212602 -1.74036982  0.74836709 -1.37710483\n",
      "   0.12204744 -0.22111017  0.68734543  0.96011262  0.83621644 -0.60056799\n",
      "   0.12662181  0.35190219 -0.73650026  0.16649297  0.26768461 -0.14112191\n",
      "   0.3988939   0.9036753   1.19229767  0.39661252  0.58051715 -0.35716485\n",
      "  -0.12903575 -0.35481627 -3.54022556 -0.45866044  0.64445121  0.37630415\n",
      "   0.40021874  0.08328077  0.11468478 -0.92182924  0.13855765 -0.30631243\n",
      "  -0.0571587   0.56788626 -0.86869689  1.05711005  1.19012421  0.49250873\n",
      "   0.68549901  0.86161018  0.19393546  0.37021933 -3.79548382 -0.64026637\n",
      "   2.11733703  1.46016217 -0.62769772 -1.12639075 -0.72947276 -0.45525849]]\n"
     ]
    }
   ],
   "source": [
    "print(clf.coef_)"
   ]
  },
  {
   "cell_type": "markdown",
   "metadata": {},
   "source": [
    "可看到sklearn的model係數高出許多，而印出他的w可以看到的值，像是-7.6之類的，雖然accuracy差不多，但closed-form solution init w，在利用牛頓法更新，過程較慢但也比較穩定。"
   ]
  },
  {
   "cell_type": "code",
   "execution_count": null,
   "metadata": {},
   "outputs": [],
   "source": []
  }
 ],
 "metadata": {
  "kernelspec": {
   "display_name": "Python 3",
   "language": "python",
   "name": "python3"
  },
  "language_info": {
   "codemirror_mode": {
    "name": "ipython",
    "version": 3
   },
   "file_extension": ".py",
   "mimetype": "text/x-python",
   "name": "python",
   "nbconvert_exporter": "python",
   "pygments_lexer": "ipython3",
   "version": "3.7.4"
  }
 },
 "nbformat": 4,
 "nbformat_minor": 4
}
